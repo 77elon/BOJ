{
 "cells": [
  {
   "cell_type": "code",
   "execution_count": 2,
   "id": "008f1ccb-19ef-4db4-b4ea-e0678286e226",
   "metadata": {},
   "outputs": [
    {
     "name": "stdin",
     "output_type": "stream",
     "text": [
      " 1000 100\n"
     ]
    },
    {
     "name": "stdout",
     "output_type": "stream",
     "text": [
      "10\n",
      "0\n"
     ]
    }
   ],
   "source": [
    "money, people = map(int, input().split())\n",
    "print(money//people)\n",
    "print(money%people)\n"
   ]
  },
  {
   "cell_type": "code",
   "execution_count": null,
   "id": "98d03665-637c-4009-a78c-4e9d29b92dfc",
   "metadata": {},
   "outputs": [],
   "source": []
  },
  {
   "cell_type": "code",
   "execution_count": null,
   "id": "2acbcb40-efc1-47a4-8cf8-daf2d9159ee6",
   "metadata": {},
   "outputs": [],
   "source": []
  }
 ],
 "metadata": {
  "kernelspec": {
   "display_name": "Tensorflow_2.x",
   "language": "python",
   "name": "tensorflow_2.x"
  },
  "language_info": {
   "codemirror_mode": {
    "name": "ipython",
    "version": 3
   },
   "file_extension": ".py",
   "mimetype": "text/x-python",
   "name": "python",
   "nbconvert_exporter": "python",
   "pygments_lexer": "ipython3",
   "version": "3.9.10"
  },
  "widgets": {
   "application/vnd.jupyter.widget-state+json": {
    "state": {},
    "version_major": 2,
    "version_minor": 0
   }
  }
 },
 "nbformat": 4,
 "nbformat_minor": 5
}
